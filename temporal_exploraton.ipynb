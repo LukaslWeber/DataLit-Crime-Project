{
 "cells": [
  {
   "cell_type": "code",
   "execution_count": null,
   "metadata": {},
   "outputs": [],
   "source": [
    "import pandas as pd\n",
    "import numpy as np\n",
    "import os\n",
    "import matplotlib.pyplot as plt\n",
    "from src.DataLoaders import T01DataLoader, T08DataLoader\n",
    "from src.DataFunctions import get_months, transform_monthly_data_to_list, transform_df_to_list, get_yearly_cases_by_key, create_x_labels\n",
    "%config InlineBackend.figure_format = 'retina'"
   ]
  },
  {
   "cell_type": "code",
   "execution_count": null,
   "metadata": {},
   "outputs": [],
   "source": [
    "# Some Variables\n",
    "years = range(2012,2023)\n",
    "db_t01 = T01DataLoader()\n",
    "db_t08 = T08DataLoader()\n",
    "\n",
    "df_yearly = transform_df_to_list(db_t01, years)\n",
    "df_years_monthly = transform_df_to_list(db_t08, years)"
   ]
  },
  {
   "cell_type": "markdown",
   "metadata": {},
   "source": [
    "### T01 with crime scene distribution"
   ]
  },
  {
   "cell_type": "code",
   "execution_count": null,
   "metadata": {},
   "outputs": [],
   "source": [
    "R_BU_T01_F = 'Datasets/PKS/2022/BU-T01-Faelle.xlsx'\n",
    "df = pd.read_excel(R_BU_T01_F,skiprows=3,thousands=',',decimal='.')\n",
    "df = df.rename(columns={'erfasste Fälle davon:\\nVersuche':'erfasste Fälle davon: Anzahl Versuche',\n",
    "           'Unnamed: 5':'erfasste Fälle davon: Versuche in %',\n",
    "           'Tatortverteilung':'Tatortverteilung: bis unter 20.000 Einwohner',\n",
    "           'Unnamed: 7':'Tatortverteilung: 20.000 bis unter 100.000',\n",
    "           'Unnamed: 8':'Tatortverteilung: 100.000 bis unter 500.000',\n",
    "           'Unnamed: 9':'Tatortveteilung: 500.000 und mehr',\n",
    "           'Unnamed: 10':'Tatortverteilung: unbekannt',\n",
    "           'mit Schusswaffe':'mit Schusswaffe: gedroht',\n",
    "           'Unnamed: 12':'mit Schusswaffe: geschossen',\n",
    "           'Aufklärung':'Aufklärung: Anzahl Fälle',\n",
    "           'Unnamed: 14':'Aufklärung: in % (AQ)',\n",
    "           'Tatverdächtige':'Tatverdächtige: insgesamt',\n",
    "           'Unnamed: 16':'Tatverdächtige: männlich',\n",
    "           'Unnamed: 17':'Tatverdächtige: weiblich',\n",
    "           'Nichtdeutsche Tatverdächtige':'Nichtdeutsche Tatverdächtige: Anzahl',\n",
    "           'Unnamed: 19':'Nichtdeutsche Tatverdächtige: Anteil an TV insg. in %'})\n",
    "df = df.drop(range(4)).reset_index(drop=True)\n",
    "df.head()"
   ]
  },
  {
   "cell_type": "markdown",
   "metadata": {},
   "source": [
    "### T01 with crime scene distribution in percent"
   ]
  },
  {
   "cell_type": "code",
   "execution_count": null,
   "metadata": {},
   "outputs": [],
   "source": [
    "R_BU_T01_T = 'Datasets/PKS/2022/Räumliche-Gliederung/Bund/BU-T01-Tatortverteilung-Prozent.xlsx'\n",
    "df = pd.read_excel(R_BU_T01_T,skiprows=3,thousands=',',decimal='.')\n",
    "df = df.rename(columns={'Tatortverteilung':'Tatortverteilung: bis unter 20.000 Einwohner',\n",
    "                        'Unnamed: 4':'Tatortverteilung: 20.000 bis unter 100.000',\n",
    "                        'Unnamed: 5':'Tatortverteilung: 100.000 bis unter 500.000',\n",
    "                        'Unnamed: 6':'Tatortverteilung: 500.000 und mehr',\n",
    "                        'Unnamed: 7':'Tatortverteilung: unbekannt'})\n",
    "inhabitant_distribution = df.iloc[4,3:].rename('Einwohnerverteilung (01.01.2022) in %')\n",
    "df = df.drop(range(5)).reset_index(drop=True)\n",
    "df.head()"
   ]
  },
  {
   "cell_type": "markdown",
   "metadata": {},
   "source": [
    "### T01 with crime scene distributions of crimes which were fully completed"
   ]
  },
  {
   "cell_type": "code",
   "execution_count": null,
   "metadata": {},
   "outputs": [],
   "source": [
    "R_BU_T01_F = 'Datasets/PKS/2022/Räumliche-Gliederung/Bund/BU-T01-vollendete-Faelle.xlsx'\n",
    "df = pd.read_excel(R_BU_T01_F,skiprows=3,thousands=',',decimal='.')\n",
    "df = df.rename(columns={'erfasste Fälle davon:\\nVersuche':'erfasste Fälle davon: Anzahl Versuche',\n",
    "           'Unnamed: 5':'erfasste Fälle davon: Versuche in %',\n",
    "           'Tatortverteilung':'Tatortverteilung: bis unter 20.000 Einwohner',\n",
    "           'Unnamed: 7':'Tatortverteilung: 20.000 bis unter 100.000',\n",
    "           'Unnamed: 8':'Tatortverteilung: 100.000 bis unter 500.000',\n",
    "           'Unnamed: 9':'Tatortveteilung: 500.000 und mehr',\n",
    "           'Unnamed: 10':'Tatortverteilung: unbekannt',\n",
    "           'mit Schusswaffe':'mit Schusswaffe: gedroht',\n",
    "           'Unnamed: 12':'mit Schusswaffe: geschossen',\n",
    "           'Aufklärung':'Aufklärung: Anzahl Fälle',\n",
    "           'Unnamed: 14':'Aufklärung: in % (AQ)',\n",
    "           'Tatverdächtige':'Tatverdächtige: insgesamt',\n",
    "           'Unnamed: 16':'Tatverdächtige: männlich',\n",
    "           'Unnamed: 17':'Tatverdächtige: weiblich',\n",
    "           'Nichtdeutsche Tatverdächtige':'Nichtdeutsche Tatverdächtige: Anzahl',\n",
    "           'Unnamed: 19':'Nichtdeutsche Tatverdächtige: Anteil an TV insg. in %'})\n",
    "df = df.drop(range(4)).reset_index(drop=True)\n",
    "df.head()"
   ]
  },
  {
   "cell_type": "markdown",
   "metadata": {},
   "source": [
    "# Zeitliche Gliederung"
   ]
  },
  {
   "cell_type": "code",
   "execution_count": null,
   "metadata": {},
   "outputs": [],
   "source": [
    "BU_T08_T = 'Datasets/PKS/2022/BU-T08-Tatzeit.xlsx'\n",
    "df = pd.read_excel(BU_T08_T,skiprows=4,thousands=',',decimal='.')\n",
    "df.columns.values[3:15] = df.iloc[0,3:15]\n",
    "df = df.drop([0,1]).reset_index(drop=True)\n",
    "total = df[df.Straftat == 'Straftaten insgesamt']\n",
    "total = pd.melt(total.iloc[:,3:-3],var_name='Monat',value_name='Straftaten insgesamt')\n",
    "ax = total.plot(xlabel=total.Monat)\n",
    "plt.title('Straftaten in Deutschland 2022')\n",
    "ax.set_ylim(0,5e5)\n",
    "\n",
    "total"
   ]
  },
  {
   "cell_type": "markdown",
   "metadata": {},
   "source": [
    "## Yearly Data"
   ]
  },
  {
   "cell_type": "code",
   "execution_count": null,
   "metadata": {},
   "outputs": [],
   "source": [
    "# todo: crime vs cybercrime\n",
    "cybercrime, crime, computer_betrug, betrug = np.ndarray(11), np.ndarray(11), np.ndarray(11), np.ndarray(11)\n",
    "for i,year in enumerate(years):\n",
    "    df = db_t01[year]\n",
    "    crime[i] = df.loc[df['Schlüssel'] == '------', 'Anzahl erfasste Fälle'].values[0]\n",
    "    cybercrime[i] = df.loc[df['Schlüssel'] == '543000', 'Anzahl erfasste Fälle'].values[0]\n",
    "\n",
    "    computer_betrug[i] = df.loc[df['Schlüssel'] == '897000', 'Anzahl erfasste Fälle'].values[0]\n",
    "    betrug[i] = df.loc[df['Schlüssel'] == '510000', 'Anzahl erfasste Fälle'].values[0]\n",
    "\n",
    "fig,ax = plt.subplots()\n",
    "ax.plot(years,cybercrime)\n",
    "ax.plot(years,crime - cybercrime)\n",
    "ax.set_title('\"Analog\" Crime vs. Cybercrime')\n",
    "    \n",
    "fig,ax = plt.subplots()\n",
    "ax.plot(years,betrug,c='black')\n",
    "ax.fill_between(years,betrug,betrug-computer_betrug,alpha=.5)\n",
    "ax.fill_between(years,betrug-computer_betrug,0,alpha=.5)\n",
    "ax.set(title='Analog vs. Digital Fraud',ylim=6e5)\n",
    "ax.legend(['Betrug ges.','digital','analog'])\n",
    "plt.xticks(rotation=0)\n",
    "plt.show()"
   ]
  },
  {
   "cell_type": "code",
   "execution_count": null,
   "metadata": {},
   "outputs": [],
   "source": [
    "# Creating some plots to visualize the relation between vrimes in gerneal and cybercrimes\n",
    "Z_T01_F = 'Datasets/PKS/2022/Zeitliche-Gliederung/T01-Faelle.csv'\n",
    "df_z_t01_f = pd.read_csv(Z_T01_F,sep=';',encoding=' iso8859-1',skiprows=1,thousands=',',decimal='.')\n",
    "\n",
    "def get_data_times_series(key):\n",
    "    crime_data = df_z_t01_f[df_z_t01_f['Schluessel'] == key]\n",
    "    crime_data_years = list(crime_data['Jahr'])\n",
    "    crime_data_cases = list(crime_data['erfasste Faelle'])\n",
    "\n",
    "    return crime_data, crime_data_years, crime_data_cases\n",
    "\n",
    "all_crimes, all_crimes_x, all_crimes_y = get_data_times_series('------')\n",
    "cyber_crimes, cyber_crimes_x, cyber_crimes_y = get_data_times_series('897000')\n",
    "\n",
    "fig, axs = plt.subplots(1, 2, figsize=(12, 6),sharey=True,layout='constrained')\n",
    "\n",
    "axs[0].plot(cyber_crimes_x, cyber_crimes_y)\n",
    "axs[0].set_title('Cyber Crimes')\n",
    "\n",
    "axs[1].plot(all_crimes_x, all_crimes_y)\n",
    "axs[1].set_title('Overall Crimes')\n",
    "plt.show()\n",
    "\n",
    "fig, axs = plt.subplots(1, 2, figsize=(12, 6),sharey=True,layout='constrained')\n",
    "axs[0].fill_between(all_crimes_x, all_crimes_y,np.asarray(all_crimes_y) - np.asarray(cyber_crimes_y), alpha=.3)\n",
    "axs[0].fill_between(all_crimes_x, np.asarray(all_crimes_y) - np.asarray(cyber_crimes_y),0,alpha=.3)\n",
    "axs[0].set(yscale='log',title='Digital vs. Analog Crime')\n",
    "axs[0].legend(['digital','analog'])\n",
    "\n",
    "axs[1].fill_between(all_crimes_x, np.asarray(all_crimes_y), np.asarray(cyber_crimes_y),alpha=.3)\n",
    "axs[1].fill_between(all_crimes_x, np.asarray(cyber_crimes_y),0, alpha=.3)\n",
    "axs[1].set(yscale='log',title='Digital vs. Analog Crime')\n",
    "axs[1].legend(['analog','digital'])\n",
    "fig.suptitle('Same data & scale, different order :D')\n"
   ]
  },
  {
   "cell_type": "markdown",
   "metadata": {},
   "source": [
    "What we could say using this type of plot:\n",
    "1. Overall crime has been almost constant in it's magnitude\n",
    "2. Cybercrime, although very low in comparison, has grown almost exponentially (linear in log scale) for many years"
   ]
  },
  {
   "cell_type": "code",
   "execution_count": null,
   "metadata": {},
   "outputs": [],
   "source": [
    "# Return Pearson product-moment correlation coefficients\n",
    "print(np.corrcoef(all_crimes_y, cyber_crimes_y))"
   ]
  },
  {
   "cell_type": "code",
   "execution_count": null,
   "metadata": {},
   "outputs": [],
   "source": [
    "computerbetrug, computerbetrug_x, computerbetrug_y = get_data_times_series('897100')\n",
    "betrug, betrug_x, betrug_y = get_data_times_series('510000')\n",
    "\n",
    "fig, axs = plt.subplots(1, 2, figsize=(12, 6))\n",
    "\n",
    "axs[0].plot(betrug_x, betrug_y)\n",
    "axs[0].set_title('Betrug (inkl. Computerbetrug)')\n",
    "\n",
    "axs[1].plot(computerbetrug_x, computerbetrug_y)\n",
    "axs[1].set_title('Computerbetrug')\n",
    "plt.show()\n",
    "plt.close()\n",
    "\n",
    "plt.title('Betrug und Computerbetrug')\n",
    "plt.plot(betrug_x, betrug_y)\n",
    "plt.plot(computerbetrug_x, computerbetrug_y)\n"
   ]
  },
  {
   "cell_type": "markdown",
   "metadata": {},
   "source": [
    "### Relationship between Betrug and Computerbetrug\n",
    "\n",
    "There seems to be a strong negative correlation between Betrug and Computerbetrug.  \n",
    "Data for Computerbetrug is only available from 2016\n"
   ]
  },
  {
   "cell_type": "code",
   "execution_count": null,
   "metadata": {},
   "outputs": [],
   "source": [
    "n = len(computerbetrug_y)\n",
    "\n",
    "print('Pearson product-moment correlation coefficients of Betrug and Computerbetrug')\n",
    "print(np.corrcoef(betrug_y[-n:], computerbetrug_y))\n",
    "\n",
    "fig, axs = plt.subplots(1, 2, figsize=(12, 6))\n",
    "\n",
    "axs[0].plot(computerbetrug_x, betrug_y[-n:])\n",
    "axs[0].set_title('Betrug (inkl. Computerbetrug)')\n",
    "\n",
    "axs[1].plot(computerbetrug_x, computerbetrug_y)\n",
    "axs[1].set_title('Computerbetrug')\n",
    "plt.show()\n",
    "plt.close()\n"
   ]
  },
  {
   "cell_type": "code",
   "execution_count": null,
   "metadata": {},
   "outputs": [],
   "source": [
    "fig, ax = plt.subplots()\n",
    "ax.plot(computerbetrug_x, computerbetrug_y)\n",
    "ax.plot(computerbetrug_x, betrug_y[-n:])\n",
    "ax.legend(['Computerbetrug','Betrug'])\n",
    "ax.set_title('Betrug and Computerbetrug')\n",
    "#ax.set_yscale('log')\n",
    "fig.show()"
   ]
  },
  {
   "cell_type": "markdown",
   "metadata": {},
   "source": [
    "# Exploration of monthly data"
   ]
  },
  {
   "cell_type": "markdown",
   "metadata": {},
   "source": [
    "In the Table 08 of 2017 there is a change in the key 510000 (Betrug). Therefore the key is there twice in two rows  \n",
    "&rarr; Which one do we have to use?/does one include the other?/ Can we just add them up?\n",
    "    (In excel table row 516&517)\n",
    "\n",
    "Same Problem in 2013"
   ]
  },
  {
   "cell_type": "markdown",
   "metadata": {},
   "source": [
    "### Getting data for Betrug and Computerbetrung\n",
    "\n",
    "#### Running into some issues with the keys used for computerfraud in T-08 from different years\n",
    "\n",
    "517500 - Computerbetrug key until 2015  \n",
    "897100 - Computerbetrug key after 2015\n",
    "\n",
    "However, key 517500 is still used later for sonstiger Computerbetrug"
   ]
  },
  {
   "cell_type": "code",
   "execution_count": null,
   "metadata": {},
   "outputs": [],
   "source": [
    "# Betrug\n",
    "betrug_cases = transform_monthly_data_to_list(df_years_monthly, '510000', True)\n",
    "\n",
    "# Computerbetrug\n",
    "# Key change in 2016 -> get_cases_year has to be called with different keys and the correspoinging data from the years\n",
    "ind_2015 = 4\n",
    "df_years_2012_to_2015 = df_years_monthly[:ind_2015]\n",
    "df_years_2016_to_2022 = df_years_monthly[ind_2015:]\n",
    "\n",
    "computerbetrug_cases = transform_monthly_data_to_list(df_years_2012_to_2015, '517500', True)\n",
    "computerbetrug_cases_after_2015 = transform_monthly_data_to_list(df_years_2016_to_2022, '897100', True)\n",
    "\n",
    "for year in computerbetrug_cases_after_2015:\n",
    "    computerbetrug_cases.append(year)"
   ]
  },
  {
   "cell_type": "markdown",
   "metadata": {},
   "source": [
    "### Visualization: Fraud and Computerfraud From 2016 to 2022"
   ]
  },
  {
   "cell_type": "code",
   "execution_count": null,
   "metadata": {},
   "outputs": [],
   "source": [
    "# create x labels\n",
    "x_labels_monthly = create_x_labels(years)\n",
    "\n",
    "# Flatten lists with cases of crimes\n",
    "\n",
    "flat_betrug_cases = [element for year in betrug_cases for element in year]\n",
    "flat_computerbetrug_cases = [element for year in computerbetrug_cases for element in year]\n",
    "\n",
    "print(flat_betrug_cases)\n",
    "print(flat_computerbetrug_cases)\n",
    "\n",
    "\n",
    "# plot crimes \n",
    "fig, axs = plt.subplots(2, 1, figsize=(18, 18))\n",
    "axs[0].plot(x_labels_monthly, flat_betrug_cases)\n",
    "axs[0].set_title('Fraud')\n",
    "axs[0].tick_params(axis='x', rotation=90)\n",
    "\n",
    "axs[1].plot(x_labels_monthly, flat_computerbetrug_cases)\n",
    "axs[1].set_title('Computerfraud')\n",
    "axs[1].tick_params(axis='x', rotation=90)\n",
    "\n",
    "axs[1].axvline(x='Jan. 2016', color='red')\n",
    "\n",
    "for i in [0, 1]:\n",
    "    # filtering x-labels\n",
    "    for ind, label in enumerate(axs[i].xaxis.get_ticklabels()):\n",
    "        if ind % 3 != 0:\n",
    "            label.set_visible(False)\n",
    "\n",
    "    # background shading\n",
    "    for ind, month in enumerate(x_labels_monthly):\n",
    "        if ind % 24 == 0:\n",
    "            axs[i].axvspan(ind, ind+12, facecolor='grey', alpha=0.1)\n",
    "            #axs.axvspan(ind+12, ind+12+12, facecolor='grey', alpha=0.2)\n",
    "\n"
   ]
  },
  {
   "cell_type": "markdown",
   "metadata": {},
   "source": [
    "**Key 517500:**  \n",
    "Jan. 2012 to Dec. 2015 &rarr; Computerbetrug  \n",
    "Jan. 2016 to Dec. 2022 &rarr; Computerbetrug (sonstiger)\n",
    "\n",
    "**Key 897100:**  \n",
    "Jan. 2015 to Dec 2022 &rarr; Computerbetrug\n",
    "\n",
    "**We can see that in the year 2015 two different keys (with different case numbers) were used for Computerbetrug.**\n",
    "\n",
    "For now the old key is used till the end of 2015 for the Computerbetrug plots"
   ]
  },
  {
   "cell_type": "code",
   "execution_count": null,
   "metadata": {},
   "outputs": [],
   "source": [
    "fig, axs = plt.subplots(sharey=True, layout='constrained', figsize=(18,9))\n",
    "axs.fill_between(x_labels_monthly, flat_betrug_cases)\n",
    "axs.fill_between(x_labels_monthly,flat_computerbetrug_cases)\n",
    "\n",
    "axs.set(yscale='linear', title='Fraud vs. Computerfraud')\n",
    "axs.legend(['Fraud', 'Computerfraud'])\n",
    "axs.tick_params(axis='x', rotation=90)\n",
    "axs.axvline(x='Jan. 2016', color='red')\n",
    "\n",
    "\n",
    "# filtering x-labels\n",
    "for ind, label in enumerate(axs.xaxis.get_ticklabels()):\n",
    "    if ind % 3 != 0:\n",
    "        label.set_visible(False)\n",
    "\n",
    "# background shading\n",
    "for ind, month in enumerate(x_labels_monthly):\n",
    "    if ind % 24 == 0:\n",
    "        axs.axvspan(ind, ind+12, facecolor='grey', alpha=0.1)\n",
    "        #axs.axvspan(ind+12, ind+12+12, facecolor='grey', alpha=0.2)\n",
    "        \n",
    "\n",
    "\n"
   ]
  },
  {
   "cell_type": "markdown",
   "metadata": {},
   "source": [
    "We saw a strong negative correlation between fraud and computerfraud between 2016 and 2022 using fraud and computerfraud, using yearly data.  \n",
    "Using monthly data we can see a moderate to strong posive correaltion."
   ]
  },
  {
   "cell_type": "code",
   "execution_count": null,
   "metadata": {},
   "outputs": [],
   "source": [
    "# Correlation between 2012 and 2022 (monthly data)\n",
    "print('Correlation between fraud and cyberfraud between 2012 and 2022 (monthly data):', \n",
    "     '{:.5f}'.format(np.corrcoef(flat_betrug_cases, flat_computerbetrug_cases)[0,1]))\n",
    "\n",
    "# Correlation for Covid Years: 2020 & 2021 (monthly data)\n",
    "n = len(flat_betrug_cases)\n",
    "two_years= n - 24\n",
    "print('Correlation between fraud and cyberfraud between 2020 and 2021 (monthly data):', \n",
    "     '{:.5f}'.format(np.corrcoef(flat_betrug_cases[two_years:], flat_computerbetrug_cases[two_years:])[0,1]))"
   ]
  },
  {
   "cell_type": "code",
   "execution_count": null,
   "metadata": {},
   "outputs": [],
   "source": [
    "# Looking at Development of initial Computerbetrug Key 517500\n",
    "\n",
    "data_517500 = transform_monthly_data_to_list(df_years_monthly, '517500', True) # TODO changing add_same_key changes data in 2015 -> look into it\n",
    "data_517500_flat = [element for year in data_517500 for element in year]\n",
    "\n",
    "\n",
    "fig, axs = plt.subplots(figsize=(18,9))\n",
    "axs.plot(x_labels_monthly, data_517500_flat)\n",
    "axs.plot(flat_computerbetrug_cases)\n",
    "axs.set_title('Cyberfraud - differnet keys')\n",
    "axs.tick_params(axis='x', rotation=90)\n",
    "axs.legend(('Key 517500', 'Key 517500 till end of 2015, then key 897100'))\n",
    "\n",
    "# filtering x-labels\n",
    "for ind, label in enumerate(axs.xaxis.get_ticklabels()):\n",
    "    if ind % 3 != 0:\n",
    "        label.set_visible(False)\n",
    "\n",
    "# background shading\n",
    "for ind, month in enumerate(x_labels_monthly):\n",
    "    if ind % 24 == 0:\n",
    "        axs.axvspan(ind, ind+12, facecolor='grey', alpha=0.1)\n",
    "        #axs.axvspan(ind+12, ind+12+12, facecolor='grey', alpha=0.2)"
   ]
  },
  {
   "cell_type": "code",
   "execution_count": null,
   "metadata": {},
   "outputs": [],
   "source": [
    "data_517500 = transform_monthly_data_to_list(df_years_monthly, '517500', True)\n",
    "data_517500_flat = [element for year in data_517500 for element in year]\n",
    "\n",
    "\n",
    "# Check if adding the same key up changes anything -> It doesn't\n",
    "data_517500_add = transform_monthly_data_to_list(df_years_monthly, '517500', False)\n",
    "data_517500_flat_add = [element for year in data_517500_add for element in year]\n",
    "\n",
    "same_data = True\n",
    "diff_count = 0\n",
    "for e1, e2 in zip(data_517500_flat, data_517500_flat_add):\n",
    "    if e1 != e2:\n",
    "        same_data = False\n",
    "        diff_count += 1\n",
    "\n",
    "print('Same data: ' + str(same_data))\n",
    "\n",
    "print(data_517500_flat)\n",
    "print(data_517500_flat_add)\n",
    "print(diff_count)"
   ]
  },
  {
   "cell_type": "markdown",
   "metadata": {},
   "source": [
    "### Looking at general develpment of crimes based on montly data\n",
    "\n",
    "Vertical lines used to mark the end of a year &rarr; highlights cyclic pattern of crime development"
   ]
  },
  {
   "cell_type": "code",
   "execution_count": null,
   "metadata": {},
   "outputs": [],
   "source": [
    "key = '------'\n",
    "\n",
    "overall_crimes = transform_monthly_data_to_list(df_years_monthly, key, False)\n",
    "flat_overall_crimes = [element for year in overall_crimes for element in year] \n",
    "\n",
    "fig, axs = plt.subplots(figsize=(18,9))\n",
    "axs.plot(x_labels_monthly, flat_overall_crimes)\n",
    "axs.tick_params(axis='x', rotation=90)\n",
    "axs.set_title('Overall crimes in Germany')\n",
    "\n",
    "# filtering x-labels\n",
    "for ind, label in enumerate(axs.xaxis.get_ticklabels()):\n",
    "    if ind % 3 != 0:\n",
    "        label.set_visible(False)\n",
    "\n",
    "# background shading\n",
    "for ind, month in enumerate(x_labels_monthly):\n",
    "    if ind % 24 == 0:\n",
    "        axs.axvspan(ind, ind+12, facecolor='grey', alpha=0.1)\n",
    "        #axs.axvspan(ind+12, ind+12+12, facecolor='grey', alpha=0.2)"
   ]
  },
  {
   "cell_type": "code",
   "execution_count": null,
   "metadata": {},
   "outputs": [],
   "source": [
    "mat = np.ndarray((11,12)) # init matrix\n",
    "months = get_months()\n",
    "\n",
    "for i,data in enumerate(flat_overall_crimes):\n",
    "    mat[i//12,i%12] = data # fill matrix by division with remainder on index (12 months in a year)\n",
    "\n",
    "# not the right way to do this, but it works as proof of concept\n",
    "fig,ax = plt.subplots()\n",
    "ax.matshow(mat,cmap='RdGy_r')\n",
    "ax.set_yticks(range(0,11))\n",
    "ax.set_xticks(range(0,12))\n",
    "ax.set_xticklabels(months)\n",
    "ax.set_yticklabels(range(2012,2023))\n",
    "plt.xticks(rotation=45)\n",
    "plt.show()"
   ]
  },
  {
   "cell_type": "markdown",
   "metadata": {},
   "source": [
    "**It can be seen that the numbers from T01 and T08 do not add up**\n",
    "\n",
    "Inside T08 the sum of the months + 'Tatzeit unbekannt' match 'Anzahl Fälle insgesamt'. However, in 2013 this is not the case as there is no column 'Tatzeit unbekannt'"
   ]
  },
  {
   "cell_type": "code",
   "execution_count": null,
   "metadata": {},
   "outputs": [],
   "source": [
    "# Calculating yearly totals by summing months from T08\n",
    "# Getting cases with unknown month\n",
    "time_unknown = []\n",
    "for year, df in df_years_monthly:\n",
    "    if 'Tatzeit unbekannt' in df:\n",
    "        a = df['Tatzeit unbekannt'][df['Schlüssel'] == '------']\n",
    "    else:\n",
    "        a = 0\n",
    "    time_unknown.append(int(a))\n",
    "\n",
    "\n",
    "# Getting cases of the 12 months\n",
    "yearly_totals_T08_mis_val = []  \n",
    "for year in overall_crimes:\n",
    "    y_sum = np.sum(year)\n",
    "    yearly_totals_T08_mis_val.append(y_sum)\n",
    "\n",
    "yearly_totals_T08 = [sum(a) for a  in zip(yearly_totals_T08_mis_val, time_unknown)]\n",
    "\n",
    "\n",
    "\n",
    "# Yearls totals from T08 Column 'Anzahl Fälle insgesamt'\n",
    "col_anz_faelle_ins_T08 = []\n",
    "for year, df in df_years_monthly:\n",
    "    total_cases = df['Anzahl erfasste Fälle'][df['Schlüssel'] == '------'].iloc[0]\n",
    "    col_anz_faelle_ins_T08.append(int(total_cases))\n",
    "\n",
    "\n",
    "\n",
    "# Yearly totals from T01\n",
    "yearly_totals_T01 = [int(c) for c in crime]\n",
    "\n",
    "\n",
    "# Visualization\n",
    "print('Totals from T01:                ', yearly_totals_T01)\n",
    "print('Anzahl Fälle insgesamt from T08:', col_anz_faelle_ins_T08)\n",
    "print('Summed monthly cases from T08:  ', yearly_totals_T08)\n",
    "\n",
    "# Line graph\n",
    "x_labels = [i for i in range(2012, 2023)]\n",
    "\n",
    "fig, axs = plt.subplots()\n",
    "axs.plot(x_labels, yearly_totals_T01)\n",
    "axs.plot(x_labels, col_anz_faelle_ins_T08)\n",
    "axs.plot(x_labels, yearly_totals_T08)\n",
    "\n",
    "axs.set(title='Overall Crimes per Year')\n",
    "axs.legend(('T01', 'T08 \"Anzahl Fälle insgesamt\"', 'T08 self-calculated sum'))\n",
    "\n",
    "\n",
    "# Histogram\n",
    "x = range(len(yearly_totals_T01))\n",
    "fig, axs = plt.subplots(figsize=(12,6))\n",
    "\n",
    "\n",
    "axs.bar(x, yearly_totals_T01, width=0.2, label='T01')\n",
    "axs.bar([i + 0.2 for i in x], col_anz_faelle_ins_T08, width=0.2, label='T08 \"Anzahl Fälle insgesamt\"')\n",
    "axs.bar([i + 0.4 for i in x], yearly_totals_T08, width=0.2, label='T08 self-calculated sum')\n",
    "axs.legend(loc='lower left')\n",
    "axs.set(title='Overall crimes per year')\n",
    "axs.set_xticks([i + 0.2 for i in x], x_labels)\n"
   ]
  },
  {
   "cell_type": "code",
   "execution_count": null,
   "metadata": {},
   "outputs": [],
   "source": [
    "tries = [450708, 457911, 461117, 481103, 533647, 454461, 423408, 416594, 399759, 371382, 414197]    #copied from T01-Faelle\n",
    "\n",
    "T01_without_tries = [a - b for a, b in zip(yearly_totals_T01, tries)]#\n",
    "print('T01 without tries:               ', T01_without_tries)\n",
    "print('Anzahl Fälle insgesamt from T08: ',col_anz_faelle_ins_T08)\n",
    "\n",
    "\n",
    "fig, axs = plt.subplots()\n",
    "axs.plot(x_labels, T01_without_tries, label='T01 without \"Erfasste Fälle davon Versuche\"')\n",
    "axs.plot(x_labels, col_anz_faelle_ins_T08, label='T08 \"Anzahl Fälle insgesamt\"')\n",
    "axs.grid(axis='x')\n",
    "\n",
    "axs.set(title='Overall Crimes per Year')\n",
    "axs.legend()"
   ]
  },
  {
   "cell_type": "markdown",
   "metadata": {},
   "source": [
    "# KFZ Diebstahl 263a (<- Cybercrime) vs KFZ Diebstahl 263 (Herrkömmlich)"
   ]
  },
  {
   "cell_type": "code",
   "execution_count": null,
   "metadata": {},
   "outputs": [],
   "source": [
    "def create_plots(c1_key, c2_key, sum_key_of_c1_and_c2, y_ticks, y_ticks_combined, args):\n",
    "    df_years_monthly, df_yearly, c1_key_name, c2_key_name, sum_key_name = args\n",
    "\n",
    "    # Get the cases from the keys\n",
    "    c1_cases_monthly = transform_monthly_data_to_list(db_t08, c1_key, years, True)\n",
    "    flat_c1_cases_monthly = [element for year in c1_cases_monthly for element in year]\n",
    "    c2_cases_monthly = transform_monthly_data_to_list(db_t08, c2_key, years, True)\n",
    "    flat_c2_cases_monthly = [element for year in c2_cases_monthly for element in year]\n",
    "    if sum_key_of_c1_and_c2 is not None:\n",
    "        sum_cases_monthly = transform_monthly_data_to_list(db_t08, sum_key_of_c1_and_c2, years, True)\n",
    "        flat_sum_cases_monthly  = [element for year in sum_cases_monthly for element in year]\n",
    "    x_labels_monthly = create_x_labels(years)\n",
    "\n",
    "    c1_years, c1_cases_yearly = get_yearly_cases_by_key(c1_key, df_yearly, True, years)\n",
    "    c2_years, c2_cases_yearly = get_yearly_cases_by_key(c2_key, df_yearly, True, years)\n",
    "    if sum_key_of_c1_and_c2 is not None:\n",
    "        sum_years, sum_cases_yearly = get_yearly_cases_by_key(sum_key_of_c1_and_c2, df_yearly, True, years)\n",
    "    \n",
    "    # Direct comparison with yearly data\n",
    "    fig, axs = plt.subplots(1, 3, figsize=(15, 6))\n",
    "    axs[0].plot(c1_years, c1_cases_yearly)\n",
    "    axs[0].set_title(c1_key_name)\n",
    "    axs[1].plot(c2_years, c2_cases_yearly, color='red')\n",
    "    axs[1].set_title(c2_key_name)\n",
    "    axs[2].plot(c1_years, c1_cases_yearly)\n",
    "    axs[2].plot(c2_years, c2_cases_yearly, color='red')\n",
    "    axs[2].set_title(\"Direct comparison\")\n",
    "    axs[2].legend([c1_key_name, c2_key_name])\n",
    "    plt.show()\n",
    "    plt.close()\n",
    "   \n",
    "\n",
    "    \n",
    "\n",
    "    # plot monthly crimes over the years\n",
    "    fig, axs = plt.subplots(2, 1, figsize=(15, 18))\n",
    "    axs[0].plot(x_labels_monthly, flat_c1_cases_monthly)\n",
    "    axs[0].set_title(f'{c1_key_name} from {years[0]} to {years[-1]}')\n",
    "    axs[0].tick_params(axis='x', rotation=90)\n",
    "    axs[0].grid(True)\n",
    "\n",
    "    axs[1].plot(x_labels_monthly, flat_c2_cases_monthly)\n",
    "    axs[1].set_title(f'{c2_key_name} from {years[0]} to {years[-1]}')\n",
    "    axs[1].tick_params(axis='x', rotation=90)\n",
    "    axs[1].grid(True)\n",
    "\n",
    "    for year in years:\n",
    "        tick = 'Dez. ' + str(year)\n",
    "        axs[0].axvline(x=tick, color='red')\n",
    "        axs[1].axvline(x=tick, color='red')\n",
    "\n",
    "    n = 3  # Keeps every 7th label\n",
    "    [l.set_visible(False) for (i,l) in enumerate(axs[0].xaxis.get_ticklabels()) if i % n != 0]\n",
    "    [l.set_visible(False) for (i,l) in enumerate(axs[1].xaxis.get_ticklabels()) if i % n != 0]\n",
    "\n",
    "    plt.show()\n",
    "\n",
    "    \n",
    "    # Compare them directly in one plot\n",
    "    fig, axs = plt.subplots(sharey=True, layout='constrained', figsize=(15,9))\n",
    "    axs.fill_between(x_labels_monthly, flat_c1_cases_monthly)\n",
    "    axs.fill_between(x_labels_monthly, flat_c2_cases_monthly)\n",
    "    axs.set(yscale='linear', title=f'{c1_key_name} vs. {c1_key_name}')\n",
    "    axs.legend([c1_key_name, c2_key_name])\n",
    "    axs.tick_params(axis='x', rotation=90)\n",
    "    axs.grid(True)\n",
    "    monthly_max = max(np.max(flat_c2_cases_monthly), np.max(flat_c1_cases_monthly))\n",
    "    monthly_y_ticks = np.arange(0, np.ceil(monthly_max/1000)*1000, y_ticks)\n",
    "    axs.set_yticks(monthly_y_ticks)\n",
    "    [l.set_visible(False) for (i,l) in enumerate(axs.xaxis.get_ticklabels()) if i % n != 0] # Keep every n-th label\n",
    "    \n",
    "    for year in years:\n",
    "        tick = 'Dez. ' + str(year)\n",
    "        axs.axvline(x=tick, color='red')\n",
    "\n",
    "    plt.show()\n",
    "\n",
    "    # Plot the sum of them (with given sum key if given)\n",
    "    # Find the maximum length of the two lists\n",
    "    max_length = max(len(flat_c1_cases_monthly), len(flat_c2_cases_monthly))\n",
    "    # Pad the shorter list with zeros to make them equal in length\n",
    "    flat_c1_cases_padded = np.pad(flat_c1_cases_monthly, (0, max_length - len(flat_c1_cases_monthly)))\n",
    "    flat_c2_cases_padded = np.pad(flat_c2_cases_monthly, (0, max_length - len(flat_c2_cases_monthly)))\n",
    "\n",
    "    fig, axs = plt.subplots(sharey=True, layout='constrained', figsize=(15,9))\n",
    "    axs.fill_between(x_labels_monthly, flat_c1_cases_padded, alpha=0.5)\n",
    "    axs.fill_between(x_labels_monthly, flat_c2_cases_padded+flat_c1_cases_padded, flat_c1_cases_padded, alpha=0.5)\n",
    "    if sum_key_of_c1_and_c2 is not None:\n",
    "        axs.plot(x_labels_monthly, flat_sum_cases_monthly, c='black')\n",
    "        axs.legend([sum_key_name, c1_key_name, c2_key_name])\n",
    "        axs.set(yscale='linear', title=f'{sum_key_name} of {c1_key_name} + {c1_key_name}')\n",
    "    else:\n",
    "        axs.legend([c1_key_name, c2_key_name])\n",
    "        axs.set(yscale='linear', title=f'{c1_key_name} + {c1_key_name}')\n",
    "    \n",
    "    axs.tick_params(axis='x', rotation=90)\n",
    "    axs.grid(True)\n",
    "    monthly_max_combined = np.max(flat_c2_cases_padded+flat_c1_cases_padded)\n",
    "    monthly_y_ticks_combined = np.arange(0, np.ceil(monthly_max_combined/1000)*1000, y_ticks_combined)\n",
    "    axs.set_yticks(monthly_y_ticks_combined)\n",
    "    [l.set_visible(False) for (i,l) in enumerate(axs.xaxis.get_ticklabels()) if i % n != 0] # keep every n-th label\n",
    "\n",
    "    for year in years:\n",
    "        tick = 'Dez. ' + str(year)\n",
    "        axs.axvline(x=tick, color='red')\n",
    "\n",
    "    plt.show()\n",
    "\n",
    "    # Compute Correlation coefficient for all cases in a year\n",
    "    print(f\"Pearson product-moment correlation coefficients of {c1_key_name} and {c2_key_name} with yearly data: \\n{np.corrcoef(c1_cases_yearly, c2_cases_yearly)}\") \n",
    "    print(f\"Pearson product-moment correlation coefficients of {c1_key_name} and {c2_key_name} with monthly data: \\n{np.corrcoef(flat_c1_cases_monthly, flat_c2_cases_monthly)}\")"
   ]
  },
  {
   "cell_type": "code",
   "execution_count": null,
   "metadata": {},
   "outputs": [],
   "source": [
    "c1_key = '897000'\n",
    "c2_key = '632079'\n",
    "sum_key_of_c1_and_c2 = None\n",
    "processed_data_for_keys = [db_t08, db_t01, c1_key, c2_key, sum_key_of_c1_and_c2]\n"
   ]
  },
  {
   "cell_type": "code",
   "execution_count": null,
   "metadata": {},
   "outputs": [],
   "source": [
    "create_plots(c1_key, c2_key, sum_key_of_c1_and_c2, y_ticks=2000, y_ticks_combined=5000, args=processed_data_for_keys)"
   ]
  }
 ],
 "metadata": {
  "kernelspec": {
   "display_name": "Python 3 (ipykernel)",
   "language": "python",
   "name": "python3"
  },
  "language_info": {
   "codemirror_mode": {
    "name": "ipython",
    "version": 3
   },
   "file_extension": ".py",
   "mimetype": "text/x-python",
   "name": "python",
   "nbconvert_exporter": "python",
   "pygments_lexer": "ipython3",
   "version": "3.9.18"
  }
 },
 "nbformat": 4,
 "nbformat_minor": 4
}
