{
 "cells": [
  {
   "cell_type": "code",
   "execution_count": null,
   "metadata": {},
   "outputs": [],
   "source": [
    "import pandas as pd\n",
    "import numpy as np\n",
    "import matplotlib.pyplot as plt\n",
    "from tueplots.constants.color import rgb\n",
    "from tueplots import figsizes, bundles, fontsizes, fonts\n",
    "from src.DataLoaders import T01DataLoader, T08DataLoader\n",
    "from src.DataFunctions import get_months, transform_monthly_data_to_list, transform_df_to_list, create_x_labels, get_yearly_cases_by_key\n",
    "from src.PlotFuncitons import create_temporal_plots\n",
    "%config InlineBackend.figure_format = 'retina'"
   ]
  },
  {
   "cell_type": "markdown",
   "metadata": {},
   "source": [
    "# Variables"
   ]
  },
  {
   "cell_type": "code",
   "execution_count": null,
   "metadata": {},
   "outputs": [],
   "source": [
    "# Define variables containing our crime tables\n",
    "years = range(2012,2023)\n",
    "db_t01 = T01DataLoader()\n",
    "db_t08 = T08DataLoader()\n",
    "\n",
    "df_yearly = transform_df_to_list(db_t01, years) # crimes with yearly granularity\n",
    "df_years_monthly = transform_df_to_list(db_t08, years) # crimes with monthly granularity\n",
    "\n",
    "# Crime Keys\n",
    "all_crimes_key = '------'\n",
    "fraud_key = '510000'\n",
    "computerfraud_key_until_2015 = '517500'\n",
    "computerfraud_key_after_2015 = '897100'\n",
    "cybercrime_key = '897000'"
   ]
  },
  {
   "cell_type": "markdown",
   "metadata": {},
   "source": [
    "# Data Preparation"
   ]
  },
  {
   "cell_type": "code",
   "execution_count": null,
   "metadata": {},
   "outputs": [],
   "source": [
    "# Lists of crime cases\n",
    "cybercrime, overall_crime, computerfraud, fraud = np.ndarray(11), np.ndarray(11), np.ndarray(11), np.ndarray(11)\n",
    "for i,year in enumerate(years):\n",
    "    df = db_t01[year]\n",
    "    overall_crime[i] = df.loc[df['Schlüssel'] == all_crimes_key, 'Anzahl erfasste Fälle'].values[0]\n",
    "    cybercrime[i] = df.loc[df['Schlüssel'] == cybercrime_key, 'Anzahl erfasste Fälle'].values[0]\n",
    "    if year <= 2015:\n",
    "        computerfraud[i] = df.loc[df['Schlüssel'] == computerfraud_key_until_2015, 'Anzahl erfasste Fälle'].values[0]\n",
    "    else:\n",
    "        computerfraud[i] = df.loc[df['Schlüssel'] == computerfraud_key_after_2015, 'Anzahl erfasste Fälle'].values[0]\n",
    "    fraud[i] = df.loc[df['Schlüssel'] == fraud_key, 'Anzahl erfasste Fälle'].values[0]\n",
    "\n",
    "overall_crimes = transform_monthly_data_to_list(df_years_monthly, all_crimes_key, False)\n",
    "flat_overall_crimes = [element for year in overall_crimes for element in year] "
   ]
  },
  {
   "cell_type": "markdown",
   "metadata": {},
   "source": [
    "# Checking out the structure of some of the datasets"
   ]
  },
  {
   "cell_type": "markdown",
   "metadata": {},
   "source": [
    "We used these blocks of code to get a rough feeling for our data."
   ]
  },
  {
   "cell_type": "markdown",
   "metadata": {},
   "source": [
    "### T01 with Crime Scene Distribution"
   ]
  },
  {
   "cell_type": "code",
   "execution_count": null,
   "metadata": {},
   "outputs": [],
   "source": [
    "R_BU_T01_F = 'Datasets/PKS/2022/BU-T01-Faelle.xlsx'\n",
    "df = pd.read_excel(R_BU_T01_F,skiprows=3,thousands=',',decimal='.')\n",
    "df = df.rename(columns={'erfasste Fälle davon:\\nVersuche':'erfasste Fälle davon: Anzahl Versuche',\n",
    "           'Unnamed: 5':'erfasste Fälle davon: Versuche in %',\n",
    "           'Tatortverteilung':'Tatortverteilung: bis unter 20.000 Einwohner',\n",
    "           'Unnamed: 7':'Tatortverteilung: 20.000 bis unter 100.000',\n",
    "           'Unnamed: 8':'Tatortverteilung: 100.000 bis unter 500.000',\n",
    "           'Unnamed: 9':'Tatortveteilung: 500.000 und mehr',\n",
    "           'Unnamed: 10':'Tatortverteilung: unbekannt',\n",
    "           'mit Schusswaffe':'mit Schusswaffe: gedroht',\n",
    "           'Unnamed: 12':'mit Schusswaffe: geschossen',\n",
    "           'Aufklärung':'Aufklärung: Anzahl Fälle',\n",
    "           'Unnamed: 14':'Aufklärung: in % (AQ)',\n",
    "           'Tatverdächtige':'Tatverdächtige: insgesamt',\n",
    "           'Unnamed: 16':'Tatverdächtige: männlich',\n",
    "           'Unnamed: 17':'Tatverdächtige: weiblich',\n",
    "           'Nichtdeutsche Tatverdächtige':'Nichtdeutsche Tatverdächtige: Anzahl',\n",
    "           'Unnamed: 19':'Nichtdeutsche Tatverdächtige: Anteil an TV insg. in %'})\n",
    "df = df.drop(range(4)).reset_index(drop=True)\n",
    "df.head()"
   ]
  },
  {
   "cell_type": "markdown",
   "metadata": {},
   "source": [
    "### T01 with crime scene distribution in percent"
   ]
  },
  {
   "cell_type": "code",
   "execution_count": null,
   "metadata": {},
   "outputs": [],
   "source": [
    "R_BU_T01_T = 'Datasets/PKS/2022/BU-T01-Tatortverteilung-Prozent.xlsx'\n",
    "df = pd.read_excel(R_BU_T01_T,skiprows=3,thousands=',',decimal='.')\n",
    "df = df.rename(columns={'Tatortverteilung':'Tatortverteilung: bis unter 20.000 Einwohner',\n",
    "                        'Unnamed: 4':'Tatortverteilung: 20.000 bis unter 100.000',\n",
    "                        'Unnamed: 5':'Tatortverteilung: 100.000 bis unter 500.000',\n",
    "                        'Unnamed: 6':'Tatortverteilung: 500.000 und mehr',\n",
    "                        'Unnamed: 7':'Tatortverteilung: unbekannt'})\n",
    "inhabitant_distribution = df.iloc[4,3:].rename('Einwohnerverteilung (01.01.2022) in %')\n",
    "df = df.drop(range(5)).reset_index(drop=True)\n",
    "df.head()"
   ]
  },
  {
   "cell_type": "markdown",
   "metadata": {},
   "source": [
    "### T01 with crime scene distributions of crimes which were fully completed"
   ]
  },
  {
   "cell_type": "code",
   "execution_count": null,
   "metadata": {},
   "outputs": [],
   "source": [
    "R_BU_T01_F = 'Datasets/PKS/2022/BU-T01-vollendete-Faelle.xlsx'\n",
    "df = pd.read_excel(R_BU_T01_F,skiprows=3,thousands=',',decimal='.')\n",
    "df = df.rename(columns={'erfasste Fälle davon:\\nVersuche':'erfasste Fälle davon: Anzahl Versuche',\n",
    "           'Unnamed: 5':'erfasste Fälle davon: Versuche in %',\n",
    "           'Tatortverteilung':'Tatortverteilung: bis unter 20.000 Einwohner',\n",
    "           'Unnamed: 7':'Tatortverteilung: 20.000 bis unter 100.000',\n",
    "           'Unnamed: 8':'Tatortverteilung: 100.000 bis unter 500.000',\n",
    "           'Unnamed: 9':'Tatortveteilung: 500.000 und mehr',\n",
    "           'Unnamed: 10':'Tatortverteilung: unbekannt',\n",
    "           'mit Schusswaffe':'mit Schusswaffe: gedroht',\n",
    "           'Unnamed: 12':'mit Schusswaffe: geschossen',\n",
    "           'Aufklärung':'Aufklärung: Anzahl Fälle',\n",
    "           'Unnamed: 14':'Aufklärung: in % (AQ)',\n",
    "           'Tatverdächtige':'Tatverdächtige: insgesamt',\n",
    "           'Unnamed: 16':'Tatverdächtige: männlich',\n",
    "           'Unnamed: 17':'Tatverdächtige: weiblich',\n",
    "           'Nichtdeutsche Tatverdächtige':'Nichtdeutsche Tatverdächtige: Anzahl',\n",
    "           'Unnamed: 19':'Nichtdeutsche Tatverdächtige: Anteil an TV insg. in %'})\n",
    "df = df.drop(range(4)).reset_index(drop=True)\n",
    "df.head()"
   ]
  },
  {
   "cell_type": "code",
   "execution_count": null,
   "metadata": {},
   "outputs": [],
   "source": [
    "BU_T08_T = 'Datasets/PKS/2022/BU-T08-Tatzeit.xlsx'\n",
    "df = pd.read_excel(BU_T08_T,skiprows=4,thousands=',',decimal='.')\n",
    "df.columns.values[3:15] = df.iloc[0,3:15]\n",
    "df = df.drop([0,1]).reset_index(drop=True)\n",
    "total = df[df.Straftat == 'Straftaten insgesamt']\n",
    "total = pd.melt(total.iloc[:,3:-3],var_name='Monat',value_name='Straftaten insgesamt')\n",
    "# Code to plot all crimes in 2022\n",
    "# ax = total.plot(xlabel=total.Monat)\n",
    "# plt.title('Straftaten in Deutschland 2022')\n",
    "# ax.set_ylim(0,5e5)\n",
    "\n",
    "total"
   ]
  },
  {
   "cell_type": "markdown",
   "metadata": {},
   "source": [
    "# Sanity Check: Searching for Inconsistencies Between Our Tables!\n",
    "\n",
    "**It can be seen that the numbers from T01 and T08 do not add up**\n",
    "\n",
    "Inside T08 the sum of the months + 'Tatzeit unbekannt' match 'Anzahl Fälle insgesamt'. However, in 2013 this is not the case as there is no column 'Tatzeit unbekannt'"
   ]
  },
  {
   "cell_type": "code",
   "execution_count": null,
   "metadata": {},
   "outputs": [],
   "source": [
    "# Yearly totals by summing months from T08\n",
    "\n",
    "# Cases of the 12 months\n",
    "yearly_totals_T08_mis_val = []  \n",
    "for year in overall_crimes:\n",
    "    y_sum = np.sum(year)\n",
    "    yearly_totals_T08_mis_val.append(y_sum)\n",
    "\n",
    "\n",
    "# Getting cases with unknown month\n",
    "time_unknown = []\n",
    "for year, df in df_years_monthly:\n",
    "    if 'Tatzeit unbekannt' in df:\n",
    "        a = df['Tatzeit unbekannt'][df['Schlüssel'] == all_crimes_key]\n",
    "    else:\n",
    "        a = 0\n",
    "    time_unknown.append(int(a))\n",
    "\n",
    "# Combining mothly cases and cases with unknown month\n",
    "yearly_totals_T08 = [sum(a) for a  in zip(yearly_totals_T08_mis_val, time_unknown)]\n",
    "\n",
    "\n",
    "# Yearly totals from T08 Column 'Anzahl Fälle insgesamt'\n",
    "col_anz_faelle_ins_T08 = []\n",
    "for year, df in df_years_monthly:\n",
    "    total_cases = df['Anzahl erfasste Fälle'][df['Schlüssel'] == all_crimes_key].iloc[0]\n",
    "    col_anz_faelle_ins_T08.append(int(total_cases))\n",
    "\n",
    "\n",
    "\n",
    "# Yearly totals from T01\n",
    "yearly_totals_T01 = [int(c) for c in overall_crime]\n",
    "\n",
    "\n",
    "# Plotting raw numbers\n",
    "print('Totals from T01:                ', yearly_totals_T01)\n",
    "print('Anzahl Fälle insgesamt from T08:', col_anz_faelle_ins_T08)\n",
    "print('Summed monthly cases from T08:  ', yearly_totals_T08)\n",
    "\n",
    "x_labels = [i for i in range(2012, 2023)]\n",
    "\n",
    "# Visualization - Line Graph\n",
    "# This was removed as it didn't look as well as the Bar Plot\n",
    "# plt.rcParams.update(bundles.icml2022(column=\"half\", nrows=1, ncols=1))\n",
    "# fig, axs = plt.subplots()\n",
    "# axs.plot(x_labels, yearly_totals_T01, label='T01 yearly totals', color=rgb.tue_red)\n",
    "# axs.plot(x_labels, col_anz_faelle_ins_T08,label='T08 \"Anzahl Fälle insgesamt\"', color=rgb.tue_blue)\n",
    "# axs.plot(x_labels, yearly_totals_T08, label='T08 summed columns', color=rgb.tue_green)\n",
    "# axs.grid(axis='y')\n",
    "# axs.set(title='Overall Crimes per Year')\n",
    "# axs.legend(loc='lower left')\n",
    "\n",
    "\n",
    "# Visualization - Bar Plot\n",
    "plt.rcParams.update(bundles.icml2022(column=\"full\", nrows=1, ncols=2))\n",
    "\n",
    "x = range(len(yearly_totals_T01))\n",
    "fig, axs = plt.subplots()\n",
    "\n",
    "axs.grid(axis='y', zorder=0)\n",
    "axs.bar(x, yearly_totals_T01, width=0.2, label='T01 yearly totals', color=rgb.tue_red, zorder=3)\n",
    "axs.bar([i + 0.2 for i in x], col_anz_faelle_ins_T08, width=0.2, label='T08 \"Anzahl Fälle insgesamt\"', color=rgb.tue_blue, zorder=3)\n",
    "axs.bar([i + 0.4 for i in x], yearly_totals_T08, width=0.2, label='T08 summed columns', color=rgb.tue_green, zorder=3)\n",
    "axs.legend(loc='lower left')\n",
    "#axs.set_yscale('log')\n",
    "axs.set(title='Overall Crimes per Year')\n",
    "axs.set_xticks([i + 0.2 for i in x], x_labels)\n",
    "\n",
    "plt.show()"
   ]
  },
  {
   "cell_type": "markdown",
   "metadata": {},
   "source": [
    "## Checking if Adding Rows With the Same Key In T08 Changes Anything Compared to When It Is Not Done\n",
    "\n",
    "There is a difference in the 12 months of 2015, which can be attributed to the overlap of keys for cyberfraud described above."
   ]
  },
  {
   "cell_type": "code",
   "execution_count": null,
   "metadata": {},
   "outputs": [],
   "source": [
    "data_517500 = transform_monthly_data_to_list(df_years_monthly, '517500', True)\n",
    "data_517500_flat = [element for year in data_517500 for element in year]\n",
    "\n",
    "data_517500_add = transform_monthly_data_to_list(df_years_monthly, '517500', False)\n",
    "data_517500_flat_add = [element for year in data_517500_add for element in year]\n",
    "\n",
    "same_data = True\n",
    "diff_count = 0\n",
    "for e1, e2 in zip(data_517500_flat, data_517500_flat_add):\n",
    "    if e1 != e2:\n",
    "        same_data = False\n",
    "        diff_count += 1\n",
    "\n",
    "print('Data is always the same: ' + str(same_data))\n",
    "print('Number of months with different data: ' + str(diff_count))\n",
    "\n",
    "print('Not adding rows:', data_517500_flat)\n",
    "print('Adding rows:    ', data_517500_flat_add)"
   ]
  },
  {
   "cell_type": "markdown",
   "metadata": {},
   "source": [
    "## Assess Whether Excluding Attempted Crimes in T01 Data Aligns With T08 Data\n",
    "\n",
    "Attempted crimes are labelled as \"Erfasste Fälle davon Versuche\" (Column 14 in the BU-T01-Faelle.xlsx files)\n",
    "\n",
    "This is not the case, as it can be seen in the plot."
   ]
  },
  {
   "cell_type": "code",
   "execution_count": null,
   "metadata": {},
   "outputs": [],
   "source": [
    "tries = [450708, 457911, 461117, 481103, 533647, 454461, 423408, 416594, 399759, 371382, 414197]    #copied from Table T01-Faelle\n",
    "\n",
    "T01_without_tries = [a - b for a, b in zip(yearly_totals_T01, tries)]#\n",
    "print('T01 without tries:       ', T01_without_tries)\n",
    "print('Overall crimes from T08: ',col_anz_faelle_ins_T08)\n",
    "\n",
    "\n",
    "fig, axs = plt.subplots()\n",
    "axs.plot(x_labels, T01_without_tries, label='T01 without attempted crimes', color=rgb.tue_red)\n",
    "axs.plot(x_labels, col_anz_faelle_ins_T08, label='T08 overall crimes', color=rgb.tue_blue)\n",
    "axs.set_xticks(x_labels)\n",
    "axs.grid(axis='y')\n",
    "\n",
    "axs.set(title='Overall Crimes per Year')\n",
    "axs.legend()\n",
    "\n",
    "plt.show()"
   ]
  },
  {
   "cell_type": "markdown",
   "metadata": {},
   "source": [
    "# Assess the correlation or cyclic pattern between months and years."
   ]
  },
  {
   "cell_type": "code",
   "execution_count": null,
   "metadata": {},
   "outputs": [],
   "source": [
    "mat = np.ndarray((11,12)) # init matrix\n",
    "months = get_months()\n",
    "\n",
    "for i,data in enumerate(flat_overall_crimes):\n",
    "    mat[i//12,i%12] = data # fill matrix by division with remainder on index (12 months in a year)\n",
    "\n",
    "# not the right way to do this, but it works as proof of concept\n",
    "fig,ax = plt.subplots()\n",
    "ax.matshow(mat,cmap='RdGy_r')\n",
    "ax.set_yticks(range(0,11))\n",
    "ax.set_xticks(range(0,12))\n",
    "ax.set_xticklabels(months)\n",
    "ax.set_yticklabels(range(2012,2023))\n",
    "plt.xticks(rotation=45)\n",
    "plt.show()"
   ]
  },
  {
   "cell_type": "markdown",
   "metadata": {},
   "source": [
    "# Temporal Exploration"
   ]
  },
  {
   "cell_type": "markdown",
   "metadata": {},
   "source": [
    "## Exploration of Yearly Data (T01 Table)"
   ]
  },
  {
   "cell_type": "code",
   "execution_count": null,
   "metadata": {},
   "outputs": [],
   "source": [
    "fig,ax = plt.subplots()\n",
    "ax.plot(years,cybercrime, color=rgb.tue_dark)\n",
    "ax.plot(years,overall_crime - cybercrime)\n",
    "ax.set_title('Overall Crime vs. Cybercrime')\n",
    "ax.set_yscale('log')\n",
    "  \n",
    "plt.rcParams.update(bundles.icml2022(column=\"half\", nrows=1, ncols=1))\n",
    "fig,ax = plt.subplots()\n",
    "ax.plot(years,fraud,c='black')\n",
    "ax.fill_between(years,fraud,fraud-computerfraud,alpha=.5)\n",
    "ax.fill_between(years,fraud-computerfraud,0,alpha=.5)\n",
    "ax.set(title='Analog vs. Digital Fraud',ylim=6e5)\n",
    "ax.legend(['Fraud total','digital','analog'])    \n",
    "plt.xticks(rotation=0)\n",
    "plt.show()"
   ]
  },
  {
   "cell_type": "code",
   "execution_count": null,
   "metadata": {},
   "outputs": [],
   "source": [
    "# Creating some plots to visualize the relation between vrimes in gerneal and cybercrimes\n",
    "Z_T01_F = 'Datasets/PKS/2022/T01-Faelle.csv'\n",
    "df_z_t01_f = pd.read_csv(Z_T01_F,sep=';',encoding=' iso8859-1',skiprows=1,thousands=',',decimal='.')\n",
    "\n",
    "def get_data_times_series(key):\n",
    "    crime_data = df_z_t01_f[df_z_t01_f['Schluessel'] == key]\n",
    "    crime_data_years = list(crime_data['Jahr'])\n",
    "    crime_data_cases = list(crime_data['erfasste Faelle'])\n",
    "\n",
    "    return crime_data, crime_data_years, crime_data_cases\n",
    "\n",
    "all_crimes, all_crimes_x, all_crimes_y = get_data_times_series(all_crimes_key)\n",
    "cyber_crimes, cyber_crimes_x, cyber_crimes_y = get_data_times_series(cybercrime_key)\n",
    "\n",
    "plt.rcParams.update(bundles.icml2022(column=\"full\", nrows=1, ncols=1))\n",
    "fig, axs = plt.subplots(1, 2,sharey=True,layout='constrained')\n",
    "\n",
    "axs[0].plot(cyber_crimes_x, cyber_crimes_y)\n",
    "axs[0].set_title('Cyber Crimes')\n",
    "axs[0].grid(axis='y')\n",
    "\n",
    "\n",
    "axs[1].plot(all_crimes_x, all_crimes_y)\n",
    "axs[1].set_title('Overall Crimes')\n",
    "axs[1].grid(axis='y')\n",
    "\n",
    "plt.show()\n",
    "\n",
    "fig, axs = plt.subplots(1, 2,sharey=True,layout='constrained')\n",
    "axs[0].fill_between(all_crimes_x, all_crimes_y,np.asarray(all_crimes_y) - np.asarray(cyber_crimes_y), alpha=.3)\n",
    "axs[0].fill_between(all_crimes_x, np.asarray(all_crimes_y) - np.asarray(cyber_crimes_y),0,alpha=.3)\n",
    "axs[0].set(yscale='log',title='Digital vs. Analog Crime')\n",
    "axs[0].legend(['digital','analog'])\n",
    "\n",
    "axs[1].fill_between(all_crimes_x, np.asarray(all_crimes_y), np.asarray(cyber_crimes_y),alpha=.3)\n",
    "axs[1].fill_between(all_crimes_x, np.asarray(cyber_crimes_y),0, alpha=.3)\n",
    "axs[1].set(yscale='log',title='Digital vs. Analog Crime')\n",
    "axs[1].legend(['analog','digital'])\n",
    "#fig.suptitle('Same data & scale, different order :D')"
   ]
  },
  {
   "cell_type": "markdown",
   "metadata": {},
   "source": [
    "What we could say using this type of plot:\n",
    "1. Overall crime has been almost constant in it's magnitude\n",
    "2. Cybercrime, although very low in comparison, has grown almost exponentially (linear in log scale) for many years"
   ]
  },
  {
   "cell_type": "code",
   "execution_count": null,
   "metadata": {},
   "outputs": [],
   "source": [
    "# Return Pearson product-moment correlation coefficients\n",
    "print(np.corrcoef(all_crimes_y, cyber_crimes_y)[0][1])"
   ]
  },
  {
   "cell_type": "markdown",
   "metadata": {},
   "source": [
    "### Fraud vs Computerfraud"
   ]
  },
  {
   "cell_type": "code",
   "execution_count": null,
   "metadata": {},
   "outputs": [],
   "source": [
    "computerbetrug, computerbetrug_x, computerbetrug_y = get_data_times_series('897100')\n",
    "fraud, betrug_x, betrug_y = get_data_times_series('510000')\n",
    "\n",
    "plt.rcParams.update(bundles.icml2022(column=\"full\", nrows=1, ncols=2))\n",
    "fig, axs = plt.subplots(1, 2)\n",
    "\n",
    "axs[0].plot(betrug_x, betrug_y, color=rgb.tue_red)\n",
    "axs[0].set_title('Fraud')\n",
    "axs[0].grid(axis='y')\n",
    "\n",
    "axs[1].plot(computerbetrug_x, computerbetrug_y, color=rgb.tue_red)\n",
    "axs[1].set_title('Computerfraud (Key 897100)')\n",
    "axs[1].grid(axis='y')\n",
    "\n",
    "plt.show()\n",
    "plt.close()\n",
    "\n",
    "plt.rcParams.update(bundles.icml2022(column=\"half\", nrows=1, ncols=1))\n",
    "fig, axs = plt.subplots()\n",
    "axs.set_title('Fraud vs. Computerfraud (Key 897100)')\n",
    "axs.grid(axis='y')\n",
    "axs.plot(betrug_x, betrug_y)\n",
    "axs.plot(computerbetrug_x, computerbetrug_y)\n",
    "\n",
    "plt.show()"
   ]
  },
  {
   "cell_type": "markdown",
   "metadata": {},
   "source": [
    "### Relationship between Betrug and Computerbetrug\n",
    "\n",
    "There seems to be a strong negative correlation between Betrug and Computerbetrug.  \n",
    "Data for Computerbetrug is only available from 2016\n"
   ]
  },
  {
   "cell_type": "code",
   "execution_count": null,
   "metadata": {},
   "outputs": [],
   "source": [
    "n = len(computerbetrug_y)\n",
    "\n",
    "print('Pearson product-moment correlation coefficients of Fraud and Cyberfraud with key 897100 (2016 - 2022):')\n",
    "print('%.3f' % np.corrcoef(betrug_y[-n:], computerbetrug_y)[0][1])\n",
    "\n",
    "plt.rcParams.update(bundles.icml2022(column=\"full\", nrows=1, ncols=2))\n",
    "\n",
    "fig, axs = plt.subplots(1, 2)\n",
    "\n",
    "axs[0].plot(computerbetrug_x, betrug_y[-n:], color=rgb.tue_red)\n",
    "axs[0].grid(axis='y')\n",
    "axs[0].set_title('Fraud')\n",
    "\n",
    "axs[1].plot(computerbetrug_x, computerbetrug_y, color=rgb.tue_red)\n",
    "axs[1].grid(axis='y')\n",
    "axs[1].set_title('Computerfraud (Key 897100)')\n",
    "\n",
    "plt.show()"
   ]
  },
  {
   "cell_type": "markdown",
   "metadata": {},
   "source": [
    "### Also add the % of solved crimes to the graph"
   ]
  },
  {
   "cell_type": "code",
   "execution_count": null,
   "metadata": {},
   "outputs": [],
   "source": [
    "betrug_2_x, betrug_2_y = get_yearly_cases_by_key(fraud_key, df_yearly[4:], True)\n",
    "betrug_solved_x, betrug_solved_y = get_yearly_cases_by_key(fraud_key, df_yearly[4:], True, 'Aufklärung: Anzahl Fälle')\n",
    "betrug_solved_y = [_solved / _crimes for _solved, _crimes in zip(betrug_solved_y, betrug_2_y)]\n",
    "computerbetrug_2_x, computerbetrug_2_y = get_yearly_cases_by_key(computerfraud_key_after_2015, df_yearly[4:], True)\n",
    "computerbetrug_solved_x, computerbetrug_solved_y = get_yearly_cases_by_key(computerfraud_key_after_2015, df_yearly[4:], True, 'Aufklärung: Anzahl Fälle')\n",
    "computerbetrug_solved_y = [_solved / _crimes for _solved, _crimes in zip(computerbetrug_solved_y, computerbetrug_2_y)]\n",
    "\n",
    "n = len(computerbetrug_2_y)\n",
    "plt.rcParams.update(bundles.icml2022(column=\"full\", nrows=1, ncols=2))\n",
    "fig, axs = plt.subplots(1, 2)\n",
    "\n",
    "betrug_line_cases, = axs[0].plot(computerbetrug_2_x, betrug_2_y[-n:], label = 'committed')\n",
    "axs[0].set_title('Fraud')\n",
    "axs[0].grid(axis='y')\n",
    "betrug_axis_solved = axs[0].twinx()\n",
    "betrug_line_solved, = betrug_axis_solved.plot(computerbetrug_2_x, betrug_solved_y[-n:], label = '\\% solved', color=rgb.tue_gray)\n",
    "lines = [betrug_line_cases, betrug_line_solved]\n",
    "labels = [line.get_label() for line in lines]\n",
    "betrug_axis_solved.legend(lines, labels, loc='upper right')\n",
    "betrug_axis_solved.set_ylim((0.2, 0.8))\n",
    "\n",
    "axs[1].set_title('Computerfraud (Key 897100)')\n",
    "axs[1].grid(axis='y')\n",
    "computerbetrug_line_cases, = axs[1].plot(computerbetrug_2_x, computerbetrug_2_y, label = 'committed')\n",
    "computerbetrug_axis_solved = axs[1].twinx()\n",
    "computerbetrug_line_solved, = computerbetrug_axis_solved.plot(computerbetrug_2_x, computerbetrug_solved_y[-n:], label = '\\% solved', color=rgb.tue_gray)\n",
    "lines = [computerbetrug_line_cases, computerbetrug_line_solved]\n",
    "labels = [line.get_label() for line in lines]\n",
    "computerbetrug_axis_solved.legend(lines, labels, loc='upper left')\n",
    "computerbetrug_axis_solved.set_ylim(betrug_axis_solved.get_ylim())\n",
    "\n",
    "plt.show()\n",
    "plt.close()\n",
    "\n",
    "print('Pearson product-moment correlation coefficients of Fraud and Cyberfraud with key 897100 (2016 - 2022):')\n",
    "print('%.3f' % np.corrcoef(betrug_2_y[-n:], computerbetrug_2_y)[0][1])"
   ]
  },
  {
   "cell_type": "code",
   "execution_count": null,
   "metadata": {},
   "outputs": [],
   "source": [
    "# Get plot with the old key for Cyberfraud (517500)\n",
    "\n",
    "_, _,data_517500_y = get_data_times_series('517500')\n",
    "\n",
    "fig, axs = plt.subplots(1,2)\n",
    "axs[0].plot(betrug_x, betrug_y, color=rgb.tue_red)\n",
    "axs[0].set_title('Fraud')\n",
    "axs[0].grid(axis='y')\n",
    "\n",
    "axs[1].plot(betrug_x, data_517500_y, color=rgb.tue_red)\n",
    "axs[1].set_title('Computerfraud (Key 517500)')\n",
    "axs[1].grid(axis='y')\n",
    "\n",
    "print('Pearson correlation Fraud and Computerfraud with key 51700 (1987 - 2022):')\n",
    "print('%.3f' %np.corrcoef(betrug_y, data_517500_y)[0][1])"
   ]
  },
  {
   "cell_type": "markdown",
   "metadata": {},
   "source": [
    "## Exploration of Monthly Data (T08 Table)"
   ]
  },
  {
   "cell_type": "markdown",
   "metadata": {},
   "source": [
    "In the Table 08 of 2017 there is a change in the key 510000 (Betrug). Therefore the key is there twice in two rows  \n",
    "&rarr; Which one do we have to use?/does one include the other?/ Can we just add them up?\n",
    "    (In excel table row 516&517)\n",
    "\n",
    "Same Problem in 2013"
   ]
  },
  {
   "cell_type": "markdown",
   "metadata": {},
   "source": [
    "### Running into some issues with the keys used for computerfraud in T-08 from different years\n",
    "\n",
    "517500 - Computerbetrug key until 2015  \n",
    "897100 - Computerbetrug key after 2015\n",
    "\n",
    "However, key 517500 is still used later for sonstiger Computerbetrug"
   ]
  },
  {
   "cell_type": "code",
   "execution_count": null,
   "metadata": {},
   "outputs": [],
   "source": [
    "# Betrug\n",
    "betrug_cases = transform_monthly_data_to_list(df_years_monthly, '510000', True)\n",
    "\n",
    "# Computerbetrug\n",
    "# Key change in 2016 -> get_cases_year has to be called with different keys and the correspoinging data from the years\n",
    "ind_2015 = 3 # 4\n",
    "df_years_2012_to_2015 = df_years_monthly[:ind_2015]\n",
    "df_years_2016_to_2022 = df_years_monthly[ind_2015:]\n",
    "\n",
    "computerbetrug_cases = transform_monthly_data_to_list(df_years_2012_to_2015, '517500', True)\n",
    "computerbetrug_cases_after_2015 = transform_monthly_data_to_list(df_years_2016_to_2022, '897100', True)\n",
    "\n",
    "for year in computerbetrug_cases_after_2015:\n",
    "    computerbetrug_cases.append(year)"
   ]
  },
  {
   "cell_type": "markdown",
   "metadata": {},
   "source": [
    "### Visualization: Fraud and Computerfraud From 2016 to 2022"
   ]
  },
  {
   "cell_type": "code",
   "execution_count": null,
   "metadata": {},
   "outputs": [],
   "source": [
    "# create x labels\n",
    "x_labels_monthly = create_x_labels(years)\n",
    "\n",
    "# Flatten lists with cases of crimes\n",
    "\n",
    "flat_betrug_cases = [element for year in betrug_cases for element in year]\n",
    "flat_computerbetrug_cases = [element for year in computerbetrug_cases for element in year]\n",
    "\n",
    "print(flat_betrug_cases)\n",
    "print(flat_computerbetrug_cases)\n",
    "\n",
    "\n",
    "# plot crimes \n",
    "plt.rcParams.update(bundles.icml2022(column=\"full\", nrows=1, ncols=1))\n",
    "\n",
    "fig, axs = plt.subplots(2, 1)\n",
    "axs[0].plot(x_labels_monthly, flat_betrug_cases, color=rgb.tue_red)\n",
    "axs[0].set_title('Fraud')\n",
    "axs[0].tick_params(axis='x', rotation=90)\n",
    "axs[0].grid(axis='y')\n",
    "\n",
    "\n",
    "axs[1].plot(x_labels_monthly, flat_computerbetrug_cases, color=rgb.tue_red)\n",
    "axs[1].set_title('Computerfraud')\n",
    "axs[1].tick_params(axis='x', rotation=90)\n",
    "axs[1].grid(axis='y')\n",
    "\n",
    "axs[1].axvline(x='Jan. 2016', color=rgb.tue_blue)\n",
    "\n",
    "for i in [0, 1]:\n",
    "    # filtering x-labels\n",
    "    for ind, label in enumerate(axs[i].xaxis.get_ticklabels()):\n",
    "        if ind % 6 != 0:\n",
    "            label.set_visible(False)\n",
    "\n",
    "    # background shading\n",
    "    for ind, month in enumerate(x_labels_monthly):\n",
    "        if ind % 24 == 0:\n",
    "            axs[i].axvspan(ind, ind+12, facecolor='grey', alpha=0.3)\n",
    "\n"
   ]
  },
  {
   "cell_type": "markdown",
   "metadata": {},
   "source": [
    "**Key 517500:**  \n",
    "Jan. 2012 to Dec. 2015 &rarr; Computerbetrug  \n",
    "Jan. 2016 to Dec. 2022 &rarr; Computerbetrug (sonstiger)\n",
    "\n",
    "**Key 897100:**  \n",
    "Jan. 2015 to Dec 2022 &rarr; Computerbetrug\n",
    "\n",
    "**We can see that in the year 2015 two different keys (with different case numbers) were used for Computerbetrug.**\n",
    "\n",
    "For now the old key is used till the end of 2015 for the Computerbetrug plots"
   ]
  },
  {
   "cell_type": "code",
   "execution_count": null,
   "metadata": {},
   "outputs": [],
   "source": [
    "fig, axs = plt.subplots(sharey=True, layout='constrained')\n",
    "plt.rcParams.update(bundles.icml2022(column=\"full\"))\n",
    "\n",
    "\n",
    "# # background shading\n",
    "# for ind, month in enumerate(x_labels_monthly):\n",
    "#     if ind % 24 == 0:\n",
    "#         axs.axvspan(ind, ind+12, facecolor='grey', alpha=0.3)\n",
    "\n",
    "axs.fill_between(x_labels_monthly, flat_betrug_cases, color=rgb.tue_red, alpha=0.5, label='Fraud', zorder=3)\n",
    "axs.fill_between(x_labels_monthly,flat_computerbetrug_cases, color=rgb.tue_blue, alpha=0.5, label='Computerfraud', zorder=3)\n",
    "\n",
    "axs.set(yscale='linear', title='Fraud vs. Computerfraud')\n",
    "axs.legend(loc='upper right')\n",
    "axs.tick_params(axis='x', rotation=90)\n",
    "axs.grid(axis='y', zorder=0)\n",
    "\n",
    "\n",
    "\n",
    "# filtering x-labels\n",
    "for ind, label in enumerate(axs.xaxis.get_ticklabels()):\n",
    "    if ind % 6 != 0:\n",
    "        label.set_visible(False)"
   ]
  },
  {
   "cell_type": "markdown",
   "metadata": {},
   "source": [
    "We saw a strong negative correlation between fraud and computerfraud between 2016 and 2022 using fraud and computerfraud, using yearly data.  \n",
    "Using monthly data we can see a moderate to strong posive correaltion."
   ]
  },
  {
   "cell_type": "code",
   "execution_count": null,
   "metadata": {},
   "outputs": [],
   "source": [
    "# Correlation between 2012 and 2022 (monthly data)\n",
    "print('Correlation between fraud and cyberfraud between 2012 and 2022 (monthly data):', \n",
    "     '{:.3f}'.format(np.corrcoef(flat_betrug_cases, flat_computerbetrug_cases)[0,1]))\n",
    "\n",
    "# Correlation for Covid Years: 2020 & 2021 (monthly data)\n",
    "n = len(flat_betrug_cases)\n",
    "two_years= n - 24\n",
    "print('Correlation between fraud and cyberfraud between 2020 and 2021 (monthly data):', \n",
    "     '{:.3f}'.format(np.corrcoef(flat_betrug_cases[two_years:], flat_computerbetrug_cases[two_years:])[0,1]))"
   ]
  },
  {
   "cell_type": "code",
   "execution_count": null,
   "metadata": {},
   "outputs": [],
   "source": [
    "# Looking at Development of initial Computerbetrug Key 517500\n",
    "\n",
    "data_517500 = transform_monthly_data_to_list(df_years_monthly, '517500', True)\n",
    "data_517500_flat = [element for year in data_517500 for element in year]\n",
    "\n",
    "data_897100 = [[None] * (ind_2015 *12)]\n",
    "data_897100.append(flat_computerbetrug_cases[ind_2015 *12: ])\n",
    "data_897100_flat = [element for year in data_897100 for element in year]\n",
    "\n",
    "plt.rcParams.update(bundles.icml2022(column=\"full\", nrows=1, ncols=1))\n",
    "\n",
    "fig, axs = plt.subplots()\n",
    "axs.set_yscale('linear')\n",
    "axs.plot(x_labels_monthly, data_517500_flat, color=rgb.tue_blue)\n",
    "axs.plot(data_897100_flat, color=rgb.tue_red)\n",
    "axs.set_title('Cyberfraud - Differnet Keys')\n",
    "axs.tick_params(axis='x', rotation=90)\n",
    "axs.legend(('Key 517500', 'Key 897100'))\n",
    "axs.grid(axis='y')\n",
    "\n",
    "# filtering x-labels\n",
    "for ind, label in enumerate(axs.xaxis.get_ticklabels()):\n",
    "    if ind % 6 != 0:\n",
    "        label.set_visible(False)\n",
    "\n",
    "# background shading\n",
    "for ind, month in enumerate(x_labels_monthly):\n",
    "    if ind % 24 == 0:\n",
    "        axs.axvspan(ind, ind+12, facecolor='grey', alpha=0.3)"
   ]
  },
  {
   "cell_type": "markdown",
   "metadata": {},
   "source": [
    "### Looking at general develpment of crimes based on montly data\n",
    "\n",
    "Vertical lines used to mark the end of a year &rarr; highlights cyclic pattern of crime development"
   ]
  },
  {
   "cell_type": "code",
   "execution_count": null,
   "metadata": {},
   "outputs": [],
   "source": [
    "plt.rcParams.update(bundles.icml2022(column=\"full\", nrows=1, ncols=1))\n",
    "\n",
    "# This visualizes the cyclic pattern better, but the format is not compatible with our report layout\n",
    "#fig, axs = plt.subplots(figsize=(18,9))\n",
    "\n",
    "fig, axs = plt.subplots()\n",
    "axs.plot(x_labels_monthly, flat_overall_crimes, color=rgb.tue_red)\n",
    "axs.tick_params(axis='x', rotation=90)\n",
    "axs.set_title('Overall Crimes in Germany')\n",
    "axs.grid(axis='y')\n",
    "\n",
    "# filtering x-labels\n",
    "for ind, label in enumerate(axs.xaxis.get_ticklabels()):\n",
    "    if ind % 6 != 0:\n",
    "        label.set_visible(False)\n",
    "\n",
    "# background shading\n",
    "for ind, month in enumerate(x_labels_monthly):\n",
    "    if ind % 24 == 0:\n",
    "        axs.axvspan(ind, ind+12, facecolor='grey', alpha=0.3)\n"
   ]
  },
  {
   "cell_type": "markdown",
   "metadata": {},
   "source": [
    "# KFZ Diebstahl 263a/ Vehicle robbery (<- Cybercrime) vs KFZ Diebstahl 263/ Vehicle robbery (<- Non-Cybercrime)"
   ]
  },
  {
   "cell_type": "code",
   "execution_count": null,
   "metadata": {},
   "outputs": [],
   "source": [
    "c1_key = '511120'\n",
    "c1_name = \"Vehicle robbery (cybercrime variant)\"\n",
    "c2_key = '511110'\n",
    "c2_name = \"Vehicle robbery\"\n",
    "\n",
    "c1_years, c1_cases_yearly = get_yearly_cases_by_key(c1_key, df_yearly, True)\n",
    "c1_cases_monthly = [element for year in transform_monthly_data_to_list(df_years_monthly, c1_key, True) for element in year]\n",
    "c2_years, c2_cases_yearly = get_yearly_cases_by_key(c2_key, df_yearly, True)\n",
    "c2_cases_monthly = [element for year in transform_monthly_data_to_list(df_years_monthly, c2_key, True) for element in year]\n",
    "create_temporal_plots(c1_cases_yearly = c1_cases_yearly, c1_years = c1_years, \n",
    "                      c2_cases_yearly = c2_cases_yearly, c2_years = c2_years, \n",
    "                      flat_c1_cases_monthly = c1_cases_monthly, flat_c2_cases_monthly = c2_cases_monthly, \n",
    "                      x_labels_monthly = create_x_labels(years), \n",
    "                      c1_key_name = c1_name, c2_key_name = c2_name,  \n",
    "                      years=years)"
   ]
  },
  {
   "cell_type": "markdown",
   "metadata": {},
   "source": [
    "There is a strong negative correlation between cyber vehicle robbery and vehicle robbery when taking the data with yearly granularity."
   ]
  }
 ],
 "metadata": {
  "kernelspec": {
   "display_name": "Python 3 (ipykernel)",
   "language": "python",
   "name": "python3"
  },
  "language_info": {
   "codemirror_mode": {
    "name": "ipython",
    "version": 3
   },
   "file_extension": ".py",
   "mimetype": "text/x-python",
   "name": "python",
   "nbconvert_exporter": "python",
   "pygments_lexer": "ipython3",
   "version": "3.9.18"
  }
 },
 "nbformat": 4,
 "nbformat_minor": 4
}
