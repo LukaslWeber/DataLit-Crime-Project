{
 "cells": [
  {
   "cell_type": "markdown",
   "metadata": {},
   "source": [
    "# Aufpassen: Die Summe der Straftatenn ist nicht gleich. Sprich: Die Zahlen wenn man männlich und weiblich zusammenfasst, sind anders als in T01!"
   ]
  },
  {
   "cell_type": "code",
   "execution_count": null,
   "metadata": {},
   "outputs": [],
   "source": [
    "# Imports\n",
    "import numpy as np\n",
    "import pandas as pd\n",
    "import matplotlib.pyplot as plt\n",
    "import sys\n",
    "sys.path.append('../')\n",
    "from src.DataLoaders import T20DataLoader\n",
    "from src.DataFunctions import get_crime_name, get_cases_by_key, get_column_with_value"
   ]
  },
  {
   "cell_type": "code",
   "execution_count": null,
   "metadata": {},
   "outputs": [],
   "source": [
    "# Variables\n",
    "sex_m = 'M'\n",
    "sex_w = 'W'\n",
    "sex_sum = 'X'\n",
    "sel_sex = sex_sum\n",
    "\n",
    "age_classes = ['0-13', '14-17', '18-20', '21-24', '25-29', '30-39', '40-49', '50-59', '>60']\n",
    "cols_of_interest = ['Anzahl erfasste TV'] + age_classes"
   ]
  },
  {
   "cell_type": "code",
   "execution_count": null,
   "metadata": {},
   "outputs": [],
   "source": [
    "years = range(2012, 2023)\n",
    "dl = T20DataLoader()\n",
    "key_1, key_1_name = '897100', 'Computerbetrug' # Until 2015: 517500\n",
    "key_1_previous, key_1_previous_until = '517500', 2015 # set to none if no key change, until is last year with the old key\n",
    "key_2, key_2_name = '510000', 'Betrug'\n",
    "key_2_previous, key_2_previous_until = None, None # set to none if no key change, until is last year with the old key\n",
    "data_years = {year: dl[year] for year in years}"
   ]
  },
  {
   "cell_type": "code",
   "execution_count": null,
   "metadata": {},
   "outputs": [],
   "source": [
    "def get_data_for_key_and_sex(data, key, sex, years):\n",
    "    return {year : get_column_with_value(get_cases_by_key(data=data[year], key=key), \n",
    "                                               'Sex', \n",
    "                                               sex) \n",
    "                                               for year in years}\n",
    "\n",
    "def get_data_with_key_change(data, prev_key, prev_key_from, prev_key_until, new_key, new_key_until):\n",
    "    d_prev = get_data_for_key_and_sex(data, prev_key, sel_sex, range(prev_key_from, prev_key_until))\n",
    "    d_new =  get_data_for_key_and_sex(data, new_key, sel_sex, range(prev_key_until, new_key_until))\n",
    "    d_prev.update(d_new)\n",
    "    return d_prev\n",
    "\n",
    "if key_1_previous is not None:\n",
    "    key_1_data_sex = get_data_with_key_change(data_years, key_1_previous, years[0], key_1_previous_until+1, key_1, years[-1]+1)\n",
    "else: \n",
    "    key_1_data_sex = get_data_for_key_and_sex(data_years, key_1, sel_sex, years)\n",
    "if key_2_previous is not None: \n",
    "    key_2_data_sex = get_data_with_key_change(data_years, key_2_previous, years[0], key_2_previous_until+1, key_2, years[-1]+1)\n",
    "else:\n",
    "    key_2_data_sex = get_data_for_key_and_sex(data_years, key_2, sel_sex, years)"
   ]
  },
  {
   "cell_type": "code",
   "execution_count": null,
   "metadata": {},
   "outputs": [],
   "source": [
    "def get_yearly_columns_of_interest(data:dict):\n",
    "    return {year : data[year][cols_of_interest] for year in data}\n",
    "    \n",
    "key_1_data = get_yearly_columns_of_interest(key_1_data_sex)\n",
    "key_2_data = get_yearly_columns_of_interest(key_2_data_sex)"
   ]
  },
  {
   "cell_type": "code",
   "execution_count": null,
   "metadata": {},
   "outputs": [],
   "source": [
    "key_1_list = np.zeros((len(years), len(cols_of_interest)), dtype=int)\n",
    "key_2_list = np.zeros((len(years), len(cols_of_interest)), dtype=int)\n",
    "for i,year in enumerate(years):\n",
    "    k_1_y = key_1_data[year]\n",
    "    k_2_y = key_2_data[year]\n",
    "    for j,col in enumerate(cols_of_interest):\n",
    "        key_1_list[i,j] = k_1_y[col].values[0]\n",
    "        key_2_list[i,j] = k_2_y[col].values[0]"
   ]
  },
  {
   "cell_type": "code",
   "execution_count": null,
   "metadata": {},
   "outputs": [],
   "source": [
    "total_cases_1 = key_1_list[:,0]\n",
    "total_cases_2 = key_2_list[:,0]\n",
    "\n",
    "fig,ax = plt.subplots()\n",
    "ax.plot(years,total_cases_2,c='black')\n",
    "ax.fill_between(years,total_cases_2,total_cases_2-total_cases_1,alpha=.5, )\n",
    "ax.fill_between(years,total_cases_2-total_cases_1,0,alpha=.5)\n",
    "ax.set(title='Analog vs. Digital Fraud')\n",
    "ax.legend(['Betrug ges.',key_1_name,key_2_name])\n",
    "plt.xticks(rotation=0)\n",
    "plt.show()"
   ]
  },
  {
   "cell_type": "markdown",
   "metadata": {},
   "source": [
    "What does this graph show?\n",
    "- less suspects can be determined\n",
    "- Not many police stations put suspects in the table if they found them???\n",
    "- Less cases? No because it rises in the other table"
   ]
  },
  {
   "cell_type": "code",
   "execution_count": null,
   "metadata": {},
   "outputs": [],
   "source": [
    "fig,axs = plt.subplots(1,2, figsize=(15,5))\n",
    "total_height_key_1, total_height_key_2  = 0, 0\n",
    "axs[0].plot(years,key_1_list[:,0],c='black')\n",
    "axs[1].plot(years,key_2_list[:,0],c='black')\n",
    "for age_group_idx in range(1,key_1_list.shape[1]):\n",
    "    age_group_cases_key_1, age_group_cases_key_2 = key_1_list[:,age_group_idx], key_2_list[:,age_group_idx]\n",
    "    axs[0].fill_between(years,age_group_cases_key_1+total_height_key_1,total_height_key_1,alpha=.5)\n",
    "    axs[1].fill_between(years,age_group_cases_key_2+total_height_key_2,total_height_key_2,alpha=.5)\n",
    "    total_height_key_1 += age_group_cases_key_1 \n",
    "    total_height_key_2 += age_group_cases_key_2\n",
    "\n",
    "fig.suptitle('Comparison between age classes')\n",
    "axs[0].set_title(f'{key_1_name}')\n",
    "axs[1].set_title(f'{key_2_name}')\n",
    "\n",
    "# Add legend outside the subplots\n",
    "fig.legend(['Sum'] + age_classes, loc='lower center', bbox_to_anchor=(0.5, 0.05), ncol=len(age_classes)+1)\n",
    "\n",
    "# Adjust layout for better spacing\n",
    "plt.subplots_adjust(bottom=0.2)\n",
    "\n",
    "plt.xticks(rotation=0)\n",
    "plt.show()\n",
    "\n"
   ]
  }
 ],
 "metadata": {
  "kernelspec": {
   "display_name": "Uni",
   "language": "python",
   "name": "python3"
  },
  "language_info": {
   "codemirror_mode": {
    "name": "ipython",
    "version": 3
   },
   "file_extension": ".py",
   "mimetype": "text/x-python",
   "name": "python",
   "nbconvert_exporter": "python",
   "pygments_lexer": "ipython3",
   "version": "3.12.0"
  }
 },
 "nbformat": 4,
 "nbformat_minor": 2
}
